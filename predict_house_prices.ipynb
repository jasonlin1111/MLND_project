{
 "cells": [
  {
   "cell_type": "code",
   "execution_count": 370,
   "metadata": {},
   "outputs": [],
   "source": [
    "# import necessary librarys\n",
    "import pandas as pd\n",
    "import numpy as np\n",
    "import matplotlib.pyplot as plt\n",
    "import seaborn as sns\n",
    "\n",
    "from scipy import stats\n",
    "from scipy.stats import norm, skew\n",
    "\n",
    "%matplotlib inline"
   ]
  },
  {
   "cell_type": "markdown",
   "metadata": {},
   "source": [
    "## Getting Started"
   ]
  },
  {
   "cell_type": "code",
   "execution_count": 371,
   "metadata": {},
   "outputs": [
    {
     "name": "stdout",
     "output_type": "stream",
     "text": [
      "The dataset has 1460 data points with 80 variables each.\n"
     ]
    },
    {
     "data": {
      "text/html": [
       "<div>\n",
       "<style scoped>\n",
       "    .dataframe tbody tr th:only-of-type {\n",
       "        vertical-align: middle;\n",
       "    }\n",
       "\n",
       "    .dataframe tbody tr th {\n",
       "        vertical-align: top;\n",
       "    }\n",
       "\n",
       "    .dataframe thead th {\n",
       "        text-align: right;\n",
       "    }\n",
       "</style>\n",
       "<table border=\"1\" class=\"dataframe\">\n",
       "  <thead>\n",
       "    <tr style=\"text-align: right;\">\n",
       "      <th></th>\n",
       "      <th>MSSubClass</th>\n",
       "      <th>MSZoning</th>\n",
       "      <th>LotFrontage</th>\n",
       "      <th>LotArea</th>\n",
       "      <th>Street</th>\n",
       "      <th>Alley</th>\n",
       "      <th>LotShape</th>\n",
       "      <th>LandContour</th>\n",
       "      <th>Utilities</th>\n",
       "      <th>LotConfig</th>\n",
       "      <th>...</th>\n",
       "      <th>PoolArea</th>\n",
       "      <th>PoolQC</th>\n",
       "      <th>Fence</th>\n",
       "      <th>MiscFeature</th>\n",
       "      <th>MiscVal</th>\n",
       "      <th>MoSold</th>\n",
       "      <th>YrSold</th>\n",
       "      <th>SaleType</th>\n",
       "      <th>SaleCondition</th>\n",
       "      <th>SalePrice</th>\n",
       "    </tr>\n",
       "  </thead>\n",
       "  <tbody>\n",
       "    <tr>\n",
       "      <th>0</th>\n",
       "      <td>60</td>\n",
       "      <td>RL</td>\n",
       "      <td>65.0</td>\n",
       "      <td>8450</td>\n",
       "      <td>Pave</td>\n",
       "      <td>NaN</td>\n",
       "      <td>Reg</td>\n",
       "      <td>Lvl</td>\n",
       "      <td>AllPub</td>\n",
       "      <td>Inside</td>\n",
       "      <td>...</td>\n",
       "      <td>0</td>\n",
       "      <td>NaN</td>\n",
       "      <td>NaN</td>\n",
       "      <td>NaN</td>\n",
       "      <td>0</td>\n",
       "      <td>2</td>\n",
       "      <td>2008</td>\n",
       "      <td>WD</td>\n",
       "      <td>Normal</td>\n",
       "      <td>208500</td>\n",
       "    </tr>\n",
       "    <tr>\n",
       "      <th>1</th>\n",
       "      <td>20</td>\n",
       "      <td>RL</td>\n",
       "      <td>80.0</td>\n",
       "      <td>9600</td>\n",
       "      <td>Pave</td>\n",
       "      <td>NaN</td>\n",
       "      <td>Reg</td>\n",
       "      <td>Lvl</td>\n",
       "      <td>AllPub</td>\n",
       "      <td>FR2</td>\n",
       "      <td>...</td>\n",
       "      <td>0</td>\n",
       "      <td>NaN</td>\n",
       "      <td>NaN</td>\n",
       "      <td>NaN</td>\n",
       "      <td>0</td>\n",
       "      <td>5</td>\n",
       "      <td>2007</td>\n",
       "      <td>WD</td>\n",
       "      <td>Normal</td>\n",
       "      <td>181500</td>\n",
       "    </tr>\n",
       "    <tr>\n",
       "      <th>2</th>\n",
       "      <td>60</td>\n",
       "      <td>RL</td>\n",
       "      <td>68.0</td>\n",
       "      <td>11250</td>\n",
       "      <td>Pave</td>\n",
       "      <td>NaN</td>\n",
       "      <td>IR1</td>\n",
       "      <td>Lvl</td>\n",
       "      <td>AllPub</td>\n",
       "      <td>Inside</td>\n",
       "      <td>...</td>\n",
       "      <td>0</td>\n",
       "      <td>NaN</td>\n",
       "      <td>NaN</td>\n",
       "      <td>NaN</td>\n",
       "      <td>0</td>\n",
       "      <td>9</td>\n",
       "      <td>2008</td>\n",
       "      <td>WD</td>\n",
       "      <td>Normal</td>\n",
       "      <td>223500</td>\n",
       "    </tr>\n",
       "  </tbody>\n",
       "</table>\n",
       "<p>3 rows × 80 columns</p>\n",
       "</div>"
      ],
      "text/plain": [
       "   MSSubClass MSZoning  LotFrontage  LotArea Street Alley LotShape  \\\n",
       "0          60       RL         65.0     8450   Pave   NaN      Reg   \n",
       "1          20       RL         80.0     9600   Pave   NaN      Reg   \n",
       "2          60       RL         68.0    11250   Pave   NaN      IR1   \n",
       "\n",
       "  LandContour Utilities LotConfig    ...     PoolArea PoolQC Fence  \\\n",
       "0         Lvl    AllPub    Inside    ...            0    NaN   NaN   \n",
       "1         Lvl    AllPub       FR2    ...            0    NaN   NaN   \n",
       "2         Lvl    AllPub    Inside    ...            0    NaN   NaN   \n",
       "\n",
       "  MiscFeature MiscVal MoSold  YrSold  SaleType  SaleCondition  SalePrice  \n",
       "0         NaN       0      2    2008        WD         Normal     208500  \n",
       "1         NaN       0      5    2007        WD         Normal     181500  \n",
       "2         NaN       0      9    2008        WD         Normal     223500  \n",
       "\n",
       "[3 rows x 80 columns]"
      ]
     },
     "execution_count": 371,
     "metadata": {},
     "output_type": "execute_result"
    }
   ],
   "source": [
    "# Load the housing dataset\n",
    "data = pd.read_csv('train.csv')\n",
    "data.drop(['Id'], axis = 1, inplace = True)\n",
    "\n",
    "# Success\n",
    "print(\"The dataset has {} data points with {} variables each.\".format(*data.shape))\n",
    "data.head(3)"
   ]
  },
  {
   "cell_type": "markdown",
   "metadata": {},
   "source": [
    "## Data Exploration"
   ]
  },
  {
   "cell_type": "markdown",
   "metadata": {},
   "source": [
    "### Target variable\n",
    "\n",
    "In this dataset, 'SalePrice' is the variable we need to predict. So let's do some analysis on this variable first."
   ]
  },
  {
   "cell_type": "code",
   "execution_count": 372,
   "metadata": {},
   "outputs": [
    {
     "data": {
      "text/plain": [
       "count      1460.000000\n",
       "mean     180921.195890\n",
       "std       79442.502883\n",
       "min       34900.000000\n",
       "25%      129975.000000\n",
       "50%      163000.000000\n",
       "75%      214000.000000\n",
       "max      755000.000000\n",
       "Name: SalePrice, dtype: float64"
      ]
     },
     "execution_count": 372,
     "metadata": {},
     "output_type": "execute_result"
    }
   ],
   "source": [
    "#descriptive statistics summary\n",
    "data['SalePrice'].describe()"
   ]
  },
  {
   "cell_type": "code",
   "execution_count": 373,
   "metadata": {},
   "outputs": [
    {
     "name": "stdout",
     "output_type": "stream",
     "text": [
      "\n",
      " mu = 180921.20 and sigma = 79415.29\n",
      "\n"
     ]
    },
    {
     "name": "stderr",
     "output_type": "stream",
     "text": [
      "C:\\Users\\9390\\AppData\\Local\\Continuum\\anaconda3\\lib\\site-packages\\matplotlib\\axes\\_axes.py:6462: UserWarning: The 'normed' kwarg is deprecated, and has been replaced by the 'density' kwarg.\n",
      "  warnings.warn(\"The 'normed' kwarg is deprecated, and has been \"\n"
     ]
    },
    {
     "data": {
      "image/png": "[encoded data removed]",
      "text/plain": [
       "<Figure size 432x288 with 1 Axes>"
      ]
     },
     "metadata": {},
     "output_type": "display_data"
    },
    {
     "data": {
      "image/png": "[encoded data removed]",
      "text/plain": [
       "<Figure size 432x288 with 1 Axes>"
      ]
     },
     "metadata": {},
     "output_type": "display_data"
    }
   ],
   "source": [
    "sns.distplot(data['SalePrice'] , fit=norm);\n",
    "\n",
    "# Get the fitted parameters used by the function\n",
    "(mu, sigma) = norm.fit(data['SalePrice'])\n",
    "print( '\\n mu = {:.2f} and sigma = {:.2f}\\n'.format(mu, sigma))\n",
    "\n",
    "#Now plot the distribution\n",
    "plt.legend(['Normal dist. ($\\mu=$ {:.2f} and $\\sigma=$ {:.2f} )'.format(mu, sigma)],\n",
    "            loc='best')\n",
    "plt.ylabel('Frequency')\n",
    "plt.title('SalePrice distribution')\n",
    "\n",
    "#Get also the QQ-plot\n",
    "fig = plt.figure()\n",
    "res = stats.probplot(data['SalePrice'], plot=plt)\n",
    "plt.show()"
   ]
  },
  {
   "cell_type": "code",
   "execution_count": 374,
   "metadata": {},
   "outputs": [
    {
     "data": {
      "text/plain": [
       "\"\\n#We use the numpy fuction log1p which  applies log(1+x) to all elements of the column\\nprice = np.log1p(price)\\n\\n#Check the new distribution \\nsns.distplot(price , fit=norm);\\n\\n# Get the fitted parameters used by the function\\n(mu, sigma) = norm.fit(price)\\nprint( '\\n mu = {:.2f} and sigma = {:.2f}\\n'.format(mu, sigma))\\n\\n#Now plot the distribution\\nplt.legend(['Normal dist. ($\\\\mu=$ {:.2f} and $\\\\sigma=$ {:.2f} )'.format(mu, sigma)],\\n            loc='best')\\nplt.ylabel('Frequency')\\nplt.title('SalePrice distribution')\\n\""
      ]
     },
     "execution_count": 374,
     "metadata": {},
     "output_type": "execute_result"
    }
   ],
   "source": [
    "\"\"\"\n",
    "#We use the numpy fuction log1p which  applies log(1+x) to all elements of the column\n",
    "price = np.log1p(price)\n",
    "\n",
    "#Check the new distribution \n",
    "sns.distplot(price , fit=norm);\n",
    "\n",
    "# Get the fitted parameters used by the function\n",
    "(mu, sigma) = norm.fit(price)\n",
    "print( '\\n mu = {:.2f} and sigma = {:.2f}\\n'.format(mu, sigma))\n",
    "\n",
    "#Now plot the distribution\n",
    "plt.legend(['Normal dist. ($\\mu=$ {:.2f} and $\\sigma=$ {:.2f} )'.format(mu, sigma)],\n",
    "            loc='best')\n",
    "plt.ylabel('Frequency')\n",
    "plt.title('SalePrice distribution')\n",
    "\"\"\""
   ]
  },
  {
   "cell_type": "markdown",
   "metadata": {},
   "source": [
    "### Feature Observation\n",
    "\n",
    "Now we take a look at the features."
   ]
  },
  {
   "cell_type": "code",
   "execution_count": 375,
   "metadata": {},
   "outputs": [
    {
     "name": "stdout",
     "output_type": "stream",
     "text": [
      "Index(['MSSubClass', 'MSZoning', 'LotFrontage', 'LotArea', 'Street', 'Alley',\n",
      "       'LotShape', 'LandContour', 'Utilities', 'LotConfig', 'LandSlope',\n",
      "       'Neighborhood', 'Condition1', 'Condition2', 'BldgType', 'HouseStyle',\n",
      "       'OverallQual', 'OverallCond', 'YearBuilt', 'YearRemodAdd', 'RoofStyle',\n",
      "       'RoofMatl', 'Exterior1st', 'Exterior2nd', 'MasVnrType', 'MasVnrArea',\n",
      "       'ExterQual', 'ExterCond', 'Foundation', 'BsmtQual', 'BsmtCond',\n",
      "       'BsmtExposure', 'BsmtFinType1', 'BsmtFinSF1', 'BsmtFinType2',\n",
      "       'BsmtFinSF2', 'BsmtUnfSF', 'TotalBsmtSF', 'Heating', 'HeatingQC',\n",
      "       'CentralAir', 'Electrical', '1stFlrSF', '2ndFlrSF', 'LowQualFinSF',\n",
      "       'GrLivArea', 'BsmtFullBath', 'BsmtHalfBath', 'FullBath', 'HalfBath',\n",
      "       'BedroomAbvGr', 'KitchenAbvGr', 'KitchenQual', 'TotRmsAbvGrd',\n",
      "       'Functional', 'Fireplaces', 'FireplaceQu', 'GarageType', 'GarageYrBlt',\n",
      "       'GarageFinish', 'GarageCars', 'GarageArea', 'GarageQual', 'GarageCond',\n",
      "       'PavedDrive', 'WoodDeckSF', 'OpenPorchSF', 'EnclosedPorch', '3SsnPorch',\n",
      "       'ScreenPorch', 'PoolArea', 'PoolQC', 'Fence', 'MiscFeature', 'MiscVal',\n",
      "       'MoSold', 'YrSold', 'SaleType', 'SaleCondition', 'SalePrice'],\n",
      "      dtype='object')\n"
     ]
    }
   ],
   "source": [
    "#features = data.drop(['Id', 'SalePrice'], axis = 1)\n",
    "\n",
    "print(data.columns)"
   ]
  },
  {
   "cell_type": "markdown",
   "metadata": {},
   "source": [
    "***Data types***\n",
    "\n",
    "In terms of data type, there are four big groups:\n",
    "\n",
    "Continuous numerical features: lengths, areas, prices\n",
    "Discrete numerical features: numerical scores, number of bedrooms, years; they support order and arithmetic operations, so they can be treated as numerical\n",
    "Ordinal categorical features: features with qualitative scores(such as 'Excellent', 'Good' and 'Fair').\n",
    "Purely categorical features: a few examples are 'MSSubClass' or 'SaleType'"
   ]
  },
  {
   "cell_type": "markdown",
   "metadata": {},
   "source": [
    "* `MSSubClass`: Discrete numerical feature.\n",
    "* `MSZoning`: Purely categorical feature.\n",
    "* `LotFrontage`: Continuous numerical feature.\n",
    "* `LotArea`: Continuous numerical feature.\n",
    "* `Street`: Purely categorical feature.\n",
    "* `Alley`: Purely categorical feature.\n",
    "* `LotShape`: Purely categorical feature.\n",
    "* `LandContour`: Purely categorical feature.\n",
    "* `Utilities`: Purely categorical feature.\n",
    "* `LotConfig`: Purely categorical feature.\n",
    "* `LandSlope`: Purely categorical feature.\n",
    "* `Neighborhood`: Purely categorical feature.\n",
    "* `Condition1`: Purely categorical feature.\n",
    "* `Condition2`: Purely categorical feature.\n",
    "* `BldgType`: Purely categorical feature.\n",
    "* `HouseStyle`: Purely categorical feature.\n",
    "* `OverallQual`: Discrete numerical feature.\n",
    "* `OverallCond`: Discrete numerical feature.\n",
    "* `YearBuilt`: Discrete numerical feature.\n",
    "* `YearRemodAdd`: Discrete numerical feature.\n",
    "* `RoofStyle`: Purely categorical feature.\n",
    "* `RoofMatl`: Purely categorical feature.\n",
    "* `Exterior1st`: Purely categorical feature.\n",
    "* `Exterior2nd`: Purely categorical feature.\n",
    "* `MasVnrType`: Purely categorical feature.\n",
    "* `MasVnrArea`: Continuous numerical feature.\n",
    "* `ExterQual`: Ordinal categorical feature. TA, Gd, Ex and Fa.\n",
    "* `ExterCond`: Ordinal categorical feature. TA, Gd, Ex, Fa and Po.\n",
    "* `Foundation`: Purely categorical feature.\n",
    "* `BsmtQual`: Ordinal categorical feature. TA, Gd, Ex and Fa.\n",
    "* `BsmtCond`: Ordinal categorical feature. TA, Gd, Fa and Po.\n",
    "* `BsmtExposure`: Ordinal categorical feature. No, Av, Gd and Mn.\n",
    "* `BsmtFinType1`: Ordinal categorical feature. Unf, GLQ, ALQ, BLQ, Rec and LwQ.\n",
    "* `BsmtFinSF1`: Continuous numerical feature.\n",
    "* `BsmtFinType2`: Ordinal categorical feature. Unf, GLQ, ALQ, BLQ, Rec and LwQ.\n",
    "* `BsmtFinSF2`: Continuous numerical feature.\n",
    "* `BsmtUnfSF`: Continuous numerical feature.\n",
    "* `TotalBsmtSF`: Continuous numerical feature.\n",
    "* `Heating`: Purely categorical feature.\n",
    "* `HeatingQC`: Ordinal categorical feature.\n",
    "* `CentralAir`: Purely categorical feature. Y and N.\n",
    "* `Electrical`: Purely categorical feature. SBrkr, FuseA, FuseF, FuseP and Mix.\n",
    "* `1stFlrSF`: Continuous numerical feature.\n",
    "* `2ndFlrSF`: Continuous numerical feature.\n",
    "* `LowQualFinSF`: Continuous numerical feature.\n",
    "* `GrLivArea`: Continuous numerical feature.\n",
    "* `BsmtFullBath`: Discrete numerical feature. 0, 1, 2 and 3.\n",
    "* `BsmtHalfBath`: Discrete numerical feature. 0, 1 and 2.\n",
    "* `FullBath`: Discrete numerical feature. 0, 1, 2 and 3.\n",
    "* `HalfBath`: Discrete numerical feature. 0, 1 and 2.\n",
    "* `BedroomAbvGr`: Discrete numerical feature. 0 to 8.\n",
    "* `KitchenAbvGr`: Discrete numerical feature. 0, 1, 2 and 3.\n",
    "* `KitchenQual`: Ordinal categorical feature. TA, Gd, Ex and Fa.\n",
    "* `TotRmsAbvGrd`: Discrete numerical feature. 2 to 14.\n",
    "* `Functional`: Purely categorical feature. Typ, Min1, Min2, Mod, Maj1, Maj2 and Sev.\n",
    "* `Fireplaces`: Discrete numerical feature. 0, 1, 2 and 3.\n",
    "* `FireplaceQu`: Ordinal categorical feature. Ex, TA, Gd, Fa and Po.\n",
    "* `GarageType`: Purely categorical feature. Attchd, Detchd, BuiltIn, Basment, CarPort and 2Types.\n",
    "* `GarageYrBlt`: Discrete numerical feature.\n",
    "* `GarageFinish`: Purely categorical feature. Unf, RFn and Fin.\n",
    "* `GarageCars`: Discrete numerical feature. 0 to 4.\n",
    "* `GarageArea`: Continuous numerical feature.\n",
    "* `GarageQual`: Ordinal categorical feature. Ex, TA, Gd, Fa and Po.\n",
    "* `GarageCond`: Ordinal categorical feature. Ex, TA, Gd, Fa and Po.\n",
    "* `PavedDrive`: Discrete numerical feature. Y, N and P.\n",
    "* `WoodDeckSF`: Continuous numerical feature.\n",
    "* `OpenPorchSF`: Continuous numerical feature.\n",
    "* `EnclosedPorch`: Continuous numerical feature.\n",
    "* `3SsnPorch`: Continuous numerical feature.\n",
    "* `ScreenPorch`: Continuous numerical feature.\n",
    "* `PoolArea`: Continuous numerical feature.\n",
    "* `PoolQC`: Ordinal categorical feature. Gd, Ex and Fa.\n",
    "* `Fence`: Ordinal categorical feature. MnPrv, GdPrv, GdWo and MnWw.\n",
    "* `MiscFeature`: Purely categorical feature. Shed, Gar2, Othr and TenC.\n",
    "* `MiscVal`: Continuous numerical feature.\n",
    "* `MoSold`: Discrete numerical feature. 1 to 12 month.\n",
    "* `YrSold`: Discrete numerical feature.\n",
    "* `SaleType`: Purely categorical feature. WD, New, COD, etc.\n",
    "* `SaleCondition`: Purely categorical feature. Normal, Partial, Abnorml, Family, Alloca and AdjLand."
   ]
  },
  {
   "cell_type": "markdown",
   "metadata": {},
   "source": [
    "## Missing values"
   ]
  },
  {
   "cell_type": "code",
   "execution_count": 376,
   "metadata": {
    "scrolled": false
   },
   "outputs": [
    {
     "data": {
      "text/html": [
       "<div>\n",
       "<style scoped>\n",
       "    .dataframe tbody tr th:only-of-type {\n",
       "        vertical-align: middle;\n",
       "    }\n",
       "\n",
       "    .dataframe tbody tr th {\n",
       "        vertical-align: top;\n",
       "    }\n",
       "\n",
       "    .dataframe thead th {\n",
       "        text-align: right;\n",
       "    }\n",
       "</style>\n",
       "<table border=\"1\" class=\"dataframe\">\n",
       "  <thead>\n",
       "    <tr style=\"text-align: right;\">\n",
       "      <th></th>\n",
       "      <th>Total</th>\n",
       "      <th>Percent</th>\n",
       "    </tr>\n",
       "  </thead>\n",
       "  <tbody>\n",
       "    <tr>\n",
       "      <th>PoolQC</th>\n",
       "      <td>1453</td>\n",
       "      <td>0.995205</td>\n",
       "    </tr>\n",
       "    <tr>\n",
       "      <th>MiscFeature</th>\n",
       "      <td>1406</td>\n",
       "      <td>0.963014</td>\n",
       "    </tr>\n",
       "    <tr>\n",
       "      <th>Alley</th>\n",
       "      <td>1369</td>\n",
       "      <td>0.937671</td>\n",
       "    </tr>\n",
       "    <tr>\n",
       "      <th>Fence</th>\n",
       "      <td>1179</td>\n",
       "      <td>0.807534</td>\n",
       "    </tr>\n",
       "    <tr>\n",
       "      <th>FireplaceQu</th>\n",
       "      <td>690</td>\n",
       "      <td>0.472603</td>\n",
       "    </tr>\n",
       "    <tr>\n",
       "      <th>LotFrontage</th>\n",
       "      <td>259</td>\n",
       "      <td>0.177397</td>\n",
       "    </tr>\n",
       "    <tr>\n",
       "      <th>GarageType</th>\n",
       "      <td>81</td>\n",
       "      <td>0.055479</td>\n",
       "    </tr>\n",
       "    <tr>\n",
       "      <th>GarageCond</th>\n",
       "      <td>81</td>\n",
       "      <td>0.055479</td>\n",
       "    </tr>\n",
       "    <tr>\n",
       "      <th>GarageFinish</th>\n",
       "      <td>81</td>\n",
       "      <td>0.055479</td>\n",
       "    </tr>\n",
       "    <tr>\n",
       "      <th>GarageQual</th>\n",
       "      <td>81</td>\n",
       "      <td>0.055479</td>\n",
       "    </tr>\n",
       "    <tr>\n",
       "      <th>GarageYrBlt</th>\n",
       "      <td>81</td>\n",
       "      <td>0.055479</td>\n",
       "    </tr>\n",
       "    <tr>\n",
       "      <th>BsmtFinType2</th>\n",
       "      <td>38</td>\n",
       "      <td>0.026027</td>\n",
       "    </tr>\n",
       "    <tr>\n",
       "      <th>BsmtExposure</th>\n",
       "      <td>38</td>\n",
       "      <td>0.026027</td>\n",
       "    </tr>\n",
       "    <tr>\n",
       "      <th>BsmtQual</th>\n",
       "      <td>37</td>\n",
       "      <td>0.025342</td>\n",
       "    </tr>\n",
       "    <tr>\n",
       "      <th>BsmtCond</th>\n",
       "      <td>37</td>\n",
       "      <td>0.025342</td>\n",
       "    </tr>\n",
       "    <tr>\n",
       "      <th>BsmtFinType1</th>\n",
       "      <td>37</td>\n",
       "      <td>0.025342</td>\n",
       "    </tr>\n",
       "    <tr>\n",
       "      <th>MasVnrArea</th>\n",
       "      <td>8</td>\n",
       "      <td>0.005479</td>\n",
       "    </tr>\n",
       "    <tr>\n",
       "      <th>MasVnrType</th>\n",
       "      <td>8</td>\n",
       "      <td>0.005479</td>\n",
       "    </tr>\n",
       "    <tr>\n",
       "      <th>Electrical</th>\n",
       "      <td>1</td>\n",
       "      <td>0.000685</td>\n",
       "    </tr>\n",
       "  </tbody>\n",
       "</table>\n",
       "</div>"
      ],
      "text/plain": [
       "              Total   Percent\n",
       "PoolQC         1453  0.995205\n",
       "MiscFeature    1406  0.963014\n",
       "Alley          1369  0.937671\n",
       "Fence          1179  0.807534\n",
       "FireplaceQu     690  0.472603\n",
       "LotFrontage     259  0.177397\n",
       "GarageType       81  0.055479\n",
       "GarageCond       81  0.055479\n",
       "GarageFinish     81  0.055479\n",
       "GarageQual       81  0.055479\n",
       "GarageYrBlt      81  0.055479\n",
       "BsmtFinType2     38  0.026027\n",
       "BsmtExposure     38  0.026027\n",
       "BsmtQual         37  0.025342\n",
       "BsmtCond         37  0.025342\n",
       "BsmtFinType1     37  0.025342\n",
       "MasVnrArea        8  0.005479\n",
       "MasVnrType        8  0.005479\n",
       "Electrical        1  0.000685"
      ]
     },
     "execution_count": 376,
     "metadata": {},
     "output_type": "execute_result"
    }
   ],
   "source": [
    "total_nans = data.isnull().sum().sort_values(ascending=False)\n",
    "percent = (data.isnull().sum()/data.isnull().count()).sort_values(ascending=False)\n",
    "missing_data = pd.concat([total_nans, percent], axis=1, keys=['Total', 'Percent'])\n",
    "missing_data[total_nans > 0]"
   ]
  },
  {
   "cell_type": "code",
   "execution_count": 377,
   "metadata": {},
   "outputs": [],
   "source": [
    "# Remove columns with more than 500 missing values\n",
    "data.drop(['PoolQC', 'MiscFeature', 'Alley', 'Fence', 'FireplaceQu'], axis = 1, inplace = True)"
   ]
  },
  {
   "cell_type": "markdown",
   "metadata": {},
   "source": [
    "### Imputing missing values"
   ]
  },
  {
   "cell_type": "markdown",
   "metadata": {},
   "source": [
    "The meaning of missing values:\n",
    "\n",
    "LotFrontage: Since the area of each street connected to the house property most likely have a similar area to other houses in its neighborhood , we can fill in missing values by the median LotFrontage of the neighborhood.\n",
    "\n",
    "GarageYrBlt: No Garage, replacing missing data with None.\n",
    "\n",
    "GarageType: No Garage, replacing missing data with None.\n",
    "\n",
    "GarageFinish: No Garage, replacing missing data with None.\n",
    "\n",
    "GarageQual: No Garage, replacing missing data with None.\n",
    "\n",
    "GarageCond: No Garage, replacing missing data with None.\n",
    "\n",
    "BsmtFinType2: No basement, replacing missing data with None.\n",
    "\n",
    "BsmtExposure: No basement, replacing missing data with None.\n",
    "\n",
    "BsmtFinType1: No basement, replacing missing data with None.\n",
    "\n",
    "BsmtCond: No basement, replacing missing data with None.\n",
    "\n",
    "BsmtQual: No basement, replacing missing data with None.\n",
    "\n",
    "MasVnrArea: No masonry veneer, replacing missing data with 0.\n",
    "\n",
    "MasVnrType: No masonry veneer, replacing missing data with None.\n",
    "\n",
    "Electrical: Replace missing data with the most common value."
   ]
  },
  {
   "cell_type": "code",
   "execution_count": 378,
   "metadata": {},
   "outputs": [],
   "source": [
    "cols_fill_with_none = ['GarageYrBlt','GarageType',\n",
    "                     'GarageFinish','GarageQual','GarageCond','BsmtFinType2','BsmtExposure','BsmtFinType1',\n",
    "                     'BsmtCond','BsmtQual','MasVnrType']\n",
    "for col in cols_fill_with_none:\n",
    "    data[col] = data[col].fillna('None')\n",
    "\n",
    "    \n",
    "# LotFrontage\n",
    "data['LotFrontage'] = data.groupby(\"Neighborhood\")[\"LotFrontage\"].transform(lambda x: x.fillna(x.median()))\n",
    "\n",
    "# MasVnrArea\n",
    "data['MasVnrArea'] = data['MasVnrArea'].fillna(0)\n",
    "\n",
    "# Electrical\n",
    "data['Electrical'] = data['Electrical'].fillna(data['Electrical'].mode()[0])"
   ]
  },
  {
   "cell_type": "code",
   "execution_count": 379,
   "metadata": {},
   "outputs": [
    {
     "data": {
      "text/plain": [
       "0"
      ]
     },
     "execution_count": 379,
     "metadata": {},
     "output_type": "execute_result"
    }
   ],
   "source": [
    "data.isnull().sum().max() "
   ]
  },
  {
   "cell_type": "markdown",
   "metadata": {},
   "source": [
    "## Outliers"
   ]
  },
  {
   "cell_type": "code",
   "execution_count": 380,
   "metadata": {
    "scrolled": true
   },
   "outputs": [
    {
     "name": "stdout",
     "output_type": "stream",
     "text": [
      "outer range (low) of the distribution:\n",
      "[[-1.83870376]\n",
      " [-1.83352844]\n",
      " [-1.80092766]\n",
      " [-1.78329881]\n",
      " [-1.77448439]\n",
      " [-1.62337999]\n",
      " [-1.61708398]\n",
      " [-1.58560389]\n",
      " [-1.58560389]\n",
      " [-1.5731    ]]\n",
      "\n",
      "outer range (high) of the distribution:\n",
      "[[3.82897043]\n",
      " [4.04098249]\n",
      " [4.49634819]\n",
      " [4.71041276]\n",
      " [4.73032076]\n",
      " [5.06214602]\n",
      " [5.42383959]\n",
      " [5.59185509]\n",
      " [7.10289909]\n",
      " [7.22881942]]\n"
     ]
    },
    {
     "name": "stderr",
     "output_type": "stream",
     "text": [
      "C:\\Users\\9390\\AppData\\Local\\Continuum\\anaconda3\\lib\\site-packages\\sklearn\\utils\\validation.py:475: DataConversionWarning: Data with input dtype int64 was converted to float64 by StandardScaler.\n",
      "  warnings.warn(msg, DataConversionWarning)\n",
      "C:\\Users\\9390\\AppData\\Local\\Continuum\\anaconda3\\lib\\site-packages\\sklearn\\utils\\validation.py:475: DataConversionWarning: Data with input dtype int64 was converted to float64 by StandardScaler.\n",
      "  warnings.warn(msg, DataConversionWarning)\n"
     ]
    }
   ],
   "source": [
    "from sklearn.preprocessing import StandardScaler\n",
    "\n",
    "#standardizing data\n",
    "saleprice_scaled = StandardScaler().fit_transform(data['SalePrice'][:,np.newaxis]);\n",
    "low_range = saleprice_scaled[saleprice_scaled[:,0].argsort()][:10]\n",
    "high_range= saleprice_scaled[saleprice_scaled[:,0].argsort()][-10:]\n",
    "print('outer range (low) of the distribution:')\n",
    "print(low_range)\n",
    "print('\\nouter range (high) of the distribution:')\n",
    "print(high_range)"
   ]
  },
  {
   "cell_type": "code",
   "execution_count": 381,
   "metadata": {},
   "outputs": [
    {
     "data": {
      "image/png": "[encoded data removed]",
      "text/plain": [
       "<Figure size 432x288 with 1 Axes>"
      ]
     },
     "metadata": {},
     "output_type": "display_data"
    }
   ],
   "source": [
    "fig, ax = plt.subplots()\n",
    "ax.scatter(x = data['GrLivArea'], y = data['SalePrice'])\n",
    "plt.ylabel('SalePrice', fontsize=13)\n",
    "plt.xlabel('GrLivArea', fontsize=13)\n",
    "plt.show()"
   ]
  },
  {
   "cell_type": "code",
   "execution_count": 382,
   "metadata": {},
   "outputs": [
    {
     "data": {
      "image/png": "[encoded data removed]",
      "text/plain": [
       "<Figure size 432x288 with 1 Axes>"
      ]
     },
     "metadata": {},
     "output_type": "display_data"
    }
   ],
   "source": [
    "#Deleting outliers\n",
    "data = data.drop(data[(data['GrLivArea']>4000) & (data['SalePrice']<300000)].index)\n",
    "\n",
    "#Check the graphic again\n",
    "fig, ax = plt.subplots()\n",
    "ax.scatter(data['GrLivArea'], data['SalePrice'])\n",
    "plt.ylabel('SalePrice', fontsize=13)\n",
    "plt.xlabel('GrLivArea', fontsize=13)\n",
    "plt.show()"
   ]
  },
  {
   "cell_type": "markdown",
   "metadata": {},
   "source": [
    "## Adjusting the type of variableData transformation"
   ]
  },
  {
   "cell_type": "markdown",
   "metadata": {},
   "source": [
    "There are a few features that are not represented with the right type of variable:\n",
    "\n",
    "- `MSSubClass`: represented as an integer, when it is just a category label (we will use 'object' for now)\n",
    "- `MoSold`: represented as an integer, a month is just a category label out of 12 possibilities (we will use 'object' for now)\n",
    "- `BsmtFullBath`, `BsmtHalfBath`: these two represent integers and not floats (or I at least I do not know what a third of half bathroom is)\n",
    "- years: a year, in the context of this dataset, is an integer, and not a float\n",
    "- 'GarageCars': represented as a float, it is an actual integer (nobody wants to have 0.5 car at home)"
   ]
  },
  {
   "cell_type": "code",
   "execution_count": 383,
   "metadata": {},
   "outputs": [],
   "source": [
    "data['MSSubClass'] = data['MSSubClass'].astype('object', copy=False)\n",
    "data['MoSold'] = data['MoSold'].astype('object', copy=False)\n",
    "data['BsmtFullBath'] = data['BsmtFullBath'].astype('int64', copy=False)\n",
    "data['BsmtHalfBath'] = data['BsmtHalfBath'].astype('int64', copy=False)\n",
    "data['GarageCars'] = data['GarageCars'].astype('int64', copy=False)\n",
    "#years = ['YearBuilt', 'YearRemodAdd', 'YrSold']\n",
    "#data[years] = data[years].astype('int64', copy=False)"
   ]
  },
  {
   "cell_type": "markdown",
   "metadata": {},
   "source": [
    "## Skewed features"
   ]
  },
  {
   "cell_type": "code",
   "execution_count": 384,
   "metadata": {},
   "outputs": [
    {
     "name": "stderr",
     "output_type": "stream",
     "text": [
      "C:\\Users\\9390\\AppData\\Local\\Continuum\\anaconda3\\lib\\site-packages\\matplotlib\\axes\\_axes.py:6462: UserWarning: The 'normed' kwarg is deprecated, and has been replaced by the 'density' kwarg.\n",
      "  warnings.warn(\"The 'normed' kwarg is deprecated, and has been \"\n"
     ]
    },
    {
     "name": "stdout",
     "output_type": "stream",
     "text": [
      "\n",
      " mu = 180932.92 and sigma = 79467.79\n",
      "\n"
     ]
    },
    {
     "data": {
      "image/png": "[encoded data removed]",
      "text/plain": [
       "<Figure size 432x288 with 1 Axes>"
      ]
     },
     "metadata": {},
     "output_type": "display_data"
    },
    {
     "data": {
      "image/png": "[encoded data removed]",
      "text/plain": [
       "<Figure size 432x288 with 1 Axes>"
      ]
     },
     "metadata": {},
     "output_type": "display_data"
    }
   ],
   "source": [
    "sns.distplot(data['SalePrice'] , fit=norm);\n",
    "\n",
    "# Get the fitted parameters used by the function\n",
    "(mu, sigma) = norm.fit(data['SalePrice'])\n",
    "print( '\\n mu = {:.2f} and sigma = {:.2f}\\n'.format(mu, sigma))\n",
    "\n",
    "#Now plot the distribution\n",
    "plt.legend(['Normal dist. ($\\mu=$ {:.2f} and $\\sigma=$ {:.2f} )'.format(mu, sigma)],\n",
    "            loc='best')\n",
    "plt.ylabel('Frequency')\n",
    "plt.title('SalePrice distribution')\n",
    "\n",
    "#Get also the QQ-plot\n",
    "fig = plt.figure()\n",
    "res = stats.probplot(data['SalePrice'], plot=plt)\n",
    "plt.show()"
   ]
  },
  {
   "cell_type": "code",
   "execution_count": 385,
   "metadata": {
    "scrolled": false
   },
   "outputs": [
    {
     "name": "stdout",
     "output_type": "stream",
     "text": [
      "\n",
      " mu = 12.02 and sigma = 0.40\n",
      "\n"
     ]
    },
    {
     "name": "stderr",
     "output_type": "stream",
     "text": [
      "C:\\Users\\9390\\AppData\\Local\\Continuum\\anaconda3\\lib\\site-packages\\matplotlib\\axes\\_axes.py:6462: UserWarning: The 'normed' kwarg is deprecated, and has been replaced by the 'density' kwarg.\n",
      "  warnings.warn(\"The 'normed' kwarg is deprecated, and has been \"\n"
     ]
    },
    {
     "data": {
      "text/plain": [
       "Text(0.5,1,'SalePrice distribution')"
      ]
     },
     "execution_count": 385,
     "metadata": {},
     "output_type": "execute_result"
    },
    {
     "data": {
      "image/png": "[encoded data removed]",
      "text/plain": [
       "<Figure size 432x288 with 1 Axes>"
      ]
     },
     "metadata": {},
     "output_type": "display_data"
    }
   ],
   "source": [
    "#We use the numpy fuction log1p which  applies log(1+x) to all elements of the column\n",
    "data['SalePrice'] = np.log1p(data['SalePrice'])\n",
    "\n",
    "#Check the new distribution \n",
    "sns.distplot(data['SalePrice'] , fit=norm);\n",
    "\n",
    "# Get the fitted parameters used by the function\n",
    "(mu, sigma) = norm.fit(data['SalePrice'])\n",
    "print( '\\n mu = {:.2f} and sigma = {:.2f}\\n'.format(mu, sigma))\n",
    "\n",
    "#Now plot the distribution\n",
    "plt.legend(['Normal dist. ($\\mu=$ {:.2f} and $\\sigma=$ {:.2f} )'.format(mu, sigma)],\n",
    "            loc='best')\n",
    "plt.ylabel('Frequency')\n",
    "plt.title('SalePrice distribution')"
   ]
  },
  {
   "cell_type": "code",
   "execution_count": 386,
   "metadata": {},
   "outputs": [
    {
     "name": "stdout",
     "output_type": "stream",
     "text": [
      "\n",
      "Skew in numerical features: \n",
      "\n"
     ]
    },
    {
     "data": {
      "text/html": [
       "<div>\n",
       "<style scoped>\n",
       "    .dataframe tbody tr th:only-of-type {\n",
       "        vertical-align: middle;\n",
       "    }\n",
       "\n",
       "    .dataframe tbody tr th {\n",
       "        vertical-align: top;\n",
       "    }\n",
       "\n",
       "    .dataframe thead th {\n",
       "        text-align: right;\n",
       "    }\n",
       "</style>\n",
       "<table border=\"1\" class=\"dataframe\">\n",
       "  <thead>\n",
       "    <tr style=\"text-align: right;\">\n",
       "      <th></th>\n",
       "      <th>Skew</th>\n",
       "    </tr>\n",
       "  </thead>\n",
       "  <tbody>\n",
       "    <tr>\n",
       "      <th>MiscVal</th>\n",
       "      <td>24.434913</td>\n",
       "    </tr>\n",
       "    <tr>\n",
       "      <th>PoolArea</th>\n",
       "      <td>15.932532</td>\n",
       "    </tr>\n",
       "    <tr>\n",
       "      <th>LotArea</th>\n",
       "      <td>12.560986</td>\n",
       "    </tr>\n",
       "    <tr>\n",
       "      <th>3SsnPorch</th>\n",
       "      <td>10.286510</td>\n",
       "    </tr>\n",
       "    <tr>\n",
       "      <th>LowQualFinSF</th>\n",
       "      <td>8.995688</td>\n",
       "    </tr>\n",
       "    <tr>\n",
       "      <th>KitchenAbvGr</th>\n",
       "      <td>4.480268</td>\n",
       "    </tr>\n",
       "    <tr>\n",
       "      <th>BsmtFinSF2</th>\n",
       "      <td>4.247550</td>\n",
       "    </tr>\n",
       "    <tr>\n",
       "      <th>ScreenPorch</th>\n",
       "      <td>4.114690</td>\n",
       "    </tr>\n",
       "    <tr>\n",
       "      <th>BsmtHalfBath</th>\n",
       "      <td>4.095895</td>\n",
       "    </tr>\n",
       "    <tr>\n",
       "      <th>EnclosedPorch</th>\n",
       "      <td>3.083987</td>\n",
       "    </tr>\n",
       "  </tbody>\n",
       "</table>\n",
       "</div>"
      ],
      "text/plain": [
       "                    Skew\n",
       "MiscVal        24.434913\n",
       "PoolArea       15.932532\n",
       "LotArea        12.560986\n",
       "3SsnPorch      10.286510\n",
       "LowQualFinSF    8.995688\n",
       "KitchenAbvGr    4.480268\n",
       "BsmtFinSF2      4.247550\n",
       "ScreenPorch     4.114690\n",
       "BsmtHalfBath    4.095895\n",
       "EnclosedPorch   3.083987"
      ]
     },
     "execution_count": 386,
     "metadata": {},
     "output_type": "execute_result"
    }
   ],
   "source": [
    "numeric_feats = data.dtypes[data.dtypes != \"object\"].index\n",
    "\n",
    "# Check the skew of all numerical features\n",
    "skewed_feats = data[numeric_feats].apply(lambda x: skew(x)).sort_values(ascending=False)\n",
    "print(\"\\nSkew in numerical features: \\n\")\n",
    "skewness = pd.DataFrame({'Skew' :skewed_feats})\n",
    "skewness.head(10)"
   ]
  },
  {
   "cell_type": "code",
   "execution_count": 387,
   "metadata": {},
   "outputs": [],
   "source": [
    "from scipy.special import boxcox1p\n",
    "skewed_features = skewness.index\n",
    "lm = 0.15\n",
    "for feature in skewed_features:\n",
    "    data[feature] = boxcox1p(data[feature], lm)"
   ]
  },
  {
   "cell_type": "markdown",
   "metadata": {},
   "source": [
    " ## Dummy encoding"
   ]
  },
  {
   "cell_type": "code",
   "execution_count": 388,
   "metadata": {},
   "outputs": [
    {
     "name": "stdout",
     "output_type": "stream",
     "text": [
      "(1458, 400)\n"
     ]
    }
   ],
   "source": [
    "price = data['SalePrice']\n",
    "data.drop(['SalePrice'], axis = 1, inplace = True)\n",
    "final_data = pd.get_dummies(data)\n",
    "print(final_data.shape)"
   ]
  },
  {
   "cell_type": "code",
   "execution_count": 389,
   "metadata": {},
   "outputs": [],
   "source": [
    "from sklearn.linear_model import ElasticNet, Lasso,  BayesianRidge, LassoLarsIC, SGDRegressor\n",
    "from sklearn.ensemble import RandomForestRegressor,  GradientBoostingRegressor\n",
    "from sklearn.kernel_ridge import KernelRidge\n",
    "from sklearn.pipeline import make_pipeline\n",
    "from sklearn.preprocessing import RobustScaler\n",
    "from sklearn.base import BaseEstimator, TransformerMixin, RegressorMixin, clone\n",
    "from sklearn.model_selection import KFold, cross_val_score, train_test_split\n",
    "from sklearn.metrics import mean_squared_error\n",
    "from sklearn.linear_model import LinearRegression, RidgeCV, LassoCV, ElasticNetCV\n",
    "#import xgboost as xgb\n",
    "#import lightgbm as lgb"
   ]
  },
  {
   "cell_type": "markdown",
   "metadata": {},
   "source": [
    "### Performance Metric"
   ]
  },
  {
   "cell_type": "markdown",
   "metadata": {},
   "source": [
    "### Define a cross validation strategy"
   ]
  },
  {
   "cell_type": "code",
   "execution_count": 390,
   "metadata": {},
   "outputs": [],
   "source": [
    "X_train, X_test, y_train, y_test = train_test_split(final_data, price, test_size=0.25, random_state=42)\n",
    "\n",
    "#Validation function\n",
    "n_folds = 4\n",
    "\n",
    "def r2_cv(model):\n",
    "    kf = KFold(n_folds, shuffle=True, random_state=42).get_n_splits(X_train)\n",
    "    r2_scores = cross_val_score(model, X_train, y_train, scoring=\"r2\", cv = kf)\n",
    "    return(r2_scores)"
   ]
  },
  {
   "cell_type": "markdown",
   "metadata": {},
   "source": [
    "### Benchmark Model: Lasso"
   ]
  },
  {
   "cell_type": "code",
   "execution_count": 391,
   "metadata": {},
   "outputs": [
    {
     "name": "stdout",
     "output_type": "stream",
     "text": [
      "\n",
      "Lasso score: -0.0013\n"
     ]
    }
   ],
   "source": [
    "from sklearn.linear_model import Lasso\n",
    "lasso = Lasso()\n",
    "score = r2_cv(lasso)\n",
    "print(\"\\nLasso score: {:.4f}\".format(score.mean()))"
   ]
  },
  {
   "cell_type": "code",
   "execution_count": 392,
   "metadata": {},
   "outputs": [
    {
     "name": "stdout",
     "output_type": "stream",
     "text": [
      "dtr score: 0.6675 (0.0225)\n",
      "\n"
     ]
    }
   ],
   "source": [
    "from sklearn.tree import DecisionTreeRegressor\n",
    "\n",
    "dtr = DecisionTreeRegressor()\n",
    "score = r2_cv(dtr)\n",
    "print(\"dtr score: {:.4f} ({:.4f})\\n\".format(score.mean(), score.std()))"
   ]
  },
  {
   "cell_type": "code",
   "execution_count": 393,
   "metadata": {},
   "outputs": [
    {
     "name": "stdout",
     "output_type": "stream",
     "text": [
      "svr score: 0.4407 (0.0303)\n",
      "\n"
     ]
    }
   ],
   "source": [
    "from sklearn.svm import SVR\n",
    "\n",
    "svr = SVR()\n",
    "score = r2_cv(svr)\n",
    "print(\"svr score: {:.4f} ({:.4f})\\n\".format(score.mean(), score.std()))"
   ]
  },
  {
   "cell_type": "code",
   "execution_count": 394,
   "metadata": {},
   "outputs": [
    {
     "name": "stdout",
     "output_type": "stream",
     "text": [
      "ada score: 0.8034 (0.0254)\n",
      "\n"
     ]
    }
   ],
   "source": [
    "from sklearn.ensemble import AdaBoostRegressor\n",
    "\n",
    "ada = AdaBoostRegressor()\n",
    "score = r2_cv(ada)\n",
    "print(\"ada score: {:.4f} ({:.4f})\\n\".format(score.mean(), score.std()))"
   ]
  },
  {
   "cell_type": "code",
   "execution_count": 395,
   "metadata": {},
   "outputs": [
    {
     "name": "stdout",
     "output_type": "stream",
     "text": [
      "Kernel Ridge score: 0.8929 (0.0166)\n",
      "\n"
     ]
    }
   ],
   "source": [
    "from sklearn.kernel_ridge import KernelRidge\n",
    "\n",
    "KRR = KernelRidge()\n",
    "score = r2_cv(KRR)\n",
    "print(\"Kernel Ridge score: {:.4f} ({:.4f})\\n\".format(score.mean(), score.std()))"
   ]
  },
  {
   "cell_type": "code",
   "execution_count": 396,
   "metadata": {
    "scrolled": true
   },
   "outputs": [
    {
     "name": "stdout",
     "output_type": "stream",
     "text": [
      "Kernel Ridge score: 0.8874 (0.0157)\n",
      "\n"
     ]
    }
   ],
   "source": [
    "GBoost = GradientBoostingRegressor()\n",
    "score = r2_cv(GBoost)\n",
    "print(\"Kernel Ridge score: {:.4f} ({:.4f})\\n\".format(score.mean(), score.std()))"
   ]
  },
  {
   "cell_type": "markdown",
   "metadata": {},
   "source": [
    "### Model Tuning"
   ]
  },
  {
   "cell_type": "code",
   "execution_count": null,
   "metadata": {},
   "outputs": [],
   "source": [
    "from sklearn.model_selection import GridSearchCV\n",
    "from sklearn.metrics import r2_score\n",
    "from sklearn.gaussian_process.kernels import WhiteKernel, ExpSineSquared\n",
    "\n",
    "\n",
    "reg = GradientBoostingRegressor()\n",
    "\n",
    "param_grid = { 'n_estimators': [300,500,800], \n",
    "              'alpha': [0.5,0.7,0.9],\n",
    "              'max_depth': [3,5,8], \n",
    "              'learning_rate': [0.05,0.1,0.2] }\n",
    "\n",
    "grid_obj = GridSearchCV(reg, param_grid=param_grid, scoring='r2', cv=5)\n",
    "\n",
    "grid_fit = grid_obj.fit(X_train, y_train)\n",
    "\n",
    "best_reg = grid_fit.best_estimator_\n",
    "\n",
    "# Make predictions using the unoptimized and model\n",
    "predictions = (reg.fit(X_train, y_train)).predict(X_test)\n",
    "best_predictions = best_reg.predict(X_test)\n",
    "\n",
    "# Report the before-and-afterscores\n",
    "print(\"Unoptimized model\\n------\")\n",
    "print(r2_score(y_test, predictions))\n",
    "print(\"\\nOptimized Model\\n------\")\n",
    "print(r2_score(y_test, best_predictions))"
   ]
  },
  {
   "cell_type": "code",
   "execution_count": null,
   "metadata": {},
   "outputs": [],
   "source": [
    "grid_obj.best_params_"
   ]
  },
  {
   "cell_type": "markdown",
   "metadata": {},
   "source": [
    "Unoptimized model\n",
    "\n",
    "0.9005532673070311\n",
    "\n",
    "Optimized Model\n",
    "\n",
    "0.9081757574010025\n",
    "\n",
    "{'alpha': 0.7, 'learning_rate': 0.05, 'max_depth': 3, 'n_estimators': 800}"
   ]
  },
  {
   "cell_type": "code",
   "execution_count": null,
   "metadata": {},
   "outputs": [],
   "source": [
    "regg = GradientBoostingRegressor(loss='ls', learning_rate=0.1, \n",
    "                                 n_estimators=1000, subsample=1.0, \n",
    "                                 criterion='friedman_mse', min_samples_split=2, \n",
    "                                 min_samples_leaf=1, min_weight_fraction_leaf=0.0, \n",
    "                                 max_depth=3, min_impurity_decrease=0.0, min_impurity_split=None, \n",
    "                                 init=None, random_state=None, max_features=None, alpha=0.9, verbose=0, \n",
    "                                 max_leaf_nodes=None, warm_start=False, presort='auto')\n",
    "\n",
    "predictionss = (regg.fit(X_train, y_train)).predict(X_test)\n",
    "print(r2_score(y_test, predictionss))"
   ]
  },
  {
   "cell_type": "code",
   "execution_count": null,
   "metadata": {},
   "outputs": [],
   "source": []
  },
  {
   "cell_type": "code",
   "execution_count": null,
   "metadata": {},
   "outputs": [],
   "source": []
  },
  {
   "cell_type": "code",
   "execution_count": null,
   "metadata": {},
   "outputs": [],
   "source": []
  },
  {
   "cell_type": "code",
   "execution_count": null,
   "metadata": {},
   "outputs": [],
   "source": []
  }
 ],
 "metadata": {
  "kernelspec": {
   "display_name": "Python 3",
   "language": "python",
   "name": "python3"
  },
  "language_info": {
   "codemirror_mode": {
    "name": "ipython",
    "version": 3
   },
   "file_extension": ".py",
   "mimetype": "text/x-python",
   "name": "python",
   "nbconvert_exporter": "python",
   "pygments_lexer": "ipython3",
   "version": "3.6.5"
  }
 },
 "nbformat": 4,
 "nbformat_minor": 2
}
